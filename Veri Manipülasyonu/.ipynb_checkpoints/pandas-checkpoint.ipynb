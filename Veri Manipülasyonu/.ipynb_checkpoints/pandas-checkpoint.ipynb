{
 "cells": [
  {
   "cell_type": "markdown",
   "id": "b7685a6f-3eaf-47ba-a80e-5c613ee630ee",
   "metadata": {},
   "source": [
    "Numpy array oluşturma"
   ]
  },
  {
   "cell_type": "code",
   "execution_count": 15,
   "id": "2ee68e13-8cf0-45af-a500-2bd1119dfc3c",
   "metadata": {},
   "outputs": [],
   "source": [
    "import numpy as np"
   ]
  },
  {
   "cell_type": "code",
   "execution_count": 16,
   "id": "c3cfe398-6c80-4406-9dcc-d3ba59f05399",
   "metadata": {},
   "outputs": [
    {
     "data": {
      "text/plain": [
       "array([1, 2, 3, 4, 5])"
      ]
     },
     "execution_count": 16,
     "metadata": {},
     "output_type": "execute_result"
    }
   ],
   "source": [
    "np.array([1,2,3,4,5])"
   ]
  },
  {
   "cell_type": "code",
   "execution_count": 18,
   "id": "5b488970-885e-4217-afa6-6844ffaf0b0c",
   "metadata": {},
   "outputs": [],
   "source": [
    "a = np.array([1,2,3,4,5])"
   ]
  },
  {
   "cell_type": "code",
   "execution_count": 19,
   "id": "de7ef37b-3870-41fd-994a-f0a10f76e122",
   "metadata": {},
   "outputs": [
    {
     "data": {
      "text/plain": [
       "numpy.ndarray"
      ]
     },
     "execution_count": 19,
     "metadata": {},
     "output_type": "execute_result"
    }
   ],
   "source": [
    "type(a)"
   ]
  },
  {
   "cell_type": "code",
   "execution_count": 20,
   "id": "077f22d1-b762-4302-99f5-82774dd58d5c",
   "metadata": {},
   "outputs": [
    {
     "data": {
      "text/plain": [
       "array([ 3, 14,  4,  2, 13])"
      ]
     },
     "execution_count": 20,
     "metadata": {},
     "output_type": "execute_result"
    }
   ],
   "source": [
    "np.array([3,14,4,2,13])"
   ]
  },
  {
   "cell_type": "markdown",
   "id": "888bba7e-f569-45ba-89ed-31f115112a10",
   "metadata": {},
   "source": [
    "sıfırdan array olusturma"
   ]
  },
  {
   "cell_type": "code",
   "execution_count": 26,
   "id": "9b8b70f2-f16e-4cad-b090-1efbb7728397",
   "metadata": {},
   "outputs": [
    {
     "data": {
      "text/plain": [
       "array([0, 0, 0, 0, 0, 0, 0, 0, 0, 0])"
      ]
     },
     "execution_count": 26,
     "metadata": {},
     "output_type": "execute_result"
    }
   ],
   "source": [
    "np.zeros(10, dtype = int)"
   ]
  },
  {
   "cell_type": "code",
   "execution_count": 27,
   "id": "7541f85b-6494-468e-90a2-1103d5af70dc",
   "metadata": {},
   "outputs": [
    {
     "data": {
      "text/plain": [
       "array([1., 1., 1.])"
      ]
     },
     "execution_count": 27,
     "metadata": {},
     "output_type": "execute_result"
    }
   ],
   "source": [
    "np.ones(3)"
   ]
  },
  {
   "cell_type": "code",
   "execution_count": 29,
   "id": "236733bd-f9b4-4def-b5a3-7ce33c04dee9",
   "metadata": {},
   "outputs": [
    {
     "data": {
      "text/plain": [
       "array([[7, 1, 5, 6, 4],\n",
       "       [2, 6, 7, 7, 5],\n",
       "       [3, 6, 5, 9, 1],\n",
       "       [0, 5, 5, 4, 0],\n",
       "       [5, 9, 6, 4, 1]])"
      ]
     },
     "execution_count": 29,
     "metadata": {},
     "output_type": "execute_result"
    }
   ],
   "source": [
    "np.random.randint(10, size =(5,5))"
   ]
  },
  {
   "cell_type": "code",
   "execution_count": 30,
   "id": "0532548a-377a-4864-b30a-dd513d079540",
   "metadata": {},
   "outputs": [],
   "source": [
    "h = np.random.randint(10, size =(5,5))"
   ]
  },
  {
   "cell_type": "code",
   "execution_count": 31,
   "id": "c2102651-df1b-4429-bc5c-4ca11eedf5e9",
   "metadata": {},
   "outputs": [
    {
     "data": {
      "text/plain": [
       "array([[2, 2, 8, 3, 1],\n",
       "       [8, 3, 7, 3, 1],\n",
       "       [7, 3, 8, 3, 5],\n",
       "       [4, 0, 8, 6, 0],\n",
       "       [5, 9, 6, 1, 8]])"
      ]
     },
     "execution_count": 31,
     "metadata": {},
     "output_type": "execute_result"
    }
   ],
   "source": [
    "h"
   ]
  },
  {
   "cell_type": "code",
   "execution_count": 32,
   "id": "23ed4fef-af2e-4bd1-b00b-39c6c57f8f5b",
   "metadata": {},
   "outputs": [
    {
     "data": {
      "text/plain": [
       "array([[2, 2, 8],\n",
       "       [8, 3, 7]])"
      ]
     },
     "execution_count": 32,
     "metadata": {},
     "output_type": "execute_result"
    }
   ],
   "source": [
    "h[0:2, 0:3]"
   ]
  },
  {
   "cell_type": "code",
   "execution_count": 33,
   "id": "2847b0f5-64b4-407b-9572-032ca6d67a91",
   "metadata": {},
   "outputs": [
    {
     "data": {
      "text/plain": [
       "array([[2, 2],\n",
       "       [8, 3],\n",
       "       [7, 3],\n",
       "       [4, 0],\n",
       "       [5, 9]])"
      ]
     },
     "execution_count": 33,
     "metadata": {},
     "output_type": "execute_result"
    }
   ],
   "source": [
    "h[:, :2]"
   ]
  },
  {
   "cell_type": "code",
   "execution_count": 34,
   "id": "a04a20eb-2ab5-42e1-845e-f5049a73f288",
   "metadata": {},
   "outputs": [
    {
     "data": {
      "text/plain": [
       "array([[8, 3],\n",
       "       [7, 3]])"
      ]
     },
     "execution_count": 34,
     "metadata": {},
     "output_type": "execute_result"
    }
   ],
   "source": [
    "h[1:3, :2]"
   ]
  },
  {
   "cell_type": "code",
   "execution_count": 35,
   "id": "1ea834a4-ba0b-41cc-8eb3-4ecfd403ffe0",
   "metadata": {},
   "outputs": [],
   "source": [
    "z = np.random.randint(10, size = (5,5))"
   ]
  },
  {
   "cell_type": "code",
   "execution_count": 36,
   "id": "1d735e89-4d81-4b3d-b14f-7a10f4e02c36",
   "metadata": {},
   "outputs": [
    {
     "data": {
      "text/plain": [
       "array([[9, 1, 7, 2, 0],\n",
       "       [9, 5, 3, 9, 2],\n",
       "       [4, 4, 9, 3, 4],\n",
       "       [3, 7, 1, 4, 4],\n",
       "       [1, 7, 8, 3, 1]])"
      ]
     },
     "execution_count": 36,
     "metadata": {},
     "output_type": "execute_result"
    }
   ],
   "source": [
    "z"
   ]
  },
  {
   "cell_type": "code",
   "execution_count": 37,
   "id": "b6a94422-9d4f-4c1f-a4af-6fff2552a6e9",
   "metadata": {},
   "outputs": [
    {
     "data": {
      "text/plain": [
       "array([9, 9, 4, 3, 1])"
      ]
     },
     "execution_count": 37,
     "metadata": {},
     "output_type": "execute_result"
    }
   ],
   "source": [
    "z[:, 0]"
   ]
  },
  {
   "cell_type": "code",
   "execution_count": 38,
   "id": "bc9bd790-3fa1-41d5-82e2-df44f4384848",
   "metadata": {},
   "outputs": [
    {
     "data": {
      "text/plain": [
       "array([9, 1, 7, 2, 0])"
      ]
     },
     "execution_count": 38,
     "metadata": {},
     "output_type": "execute_result"
    }
   ],
   "source": [
    "z[0, :]"
   ]
  },
  {
   "cell_type": "code",
   "execution_count": 39,
   "id": "c5736574-f4c3-4dde-b079-69b4ad82f12c",
   "metadata": {},
   "outputs": [
    {
     "data": {
      "text/plain": [
       "array([[9, 1],\n",
       "       [9, 5],\n",
       "       [4, 4],\n",
       "       [3, 7],\n",
       "       [1, 7]])"
      ]
     },
     "execution_count": 39,
     "metadata": {},
     "output_type": "execute_result"
    }
   ],
   "source": [
    "z[::,:2]"
   ]
  },
  {
   "cell_type": "code",
   "execution_count": 41,
   "id": "c8411e76-dfe6-4a70-a527-b48be82182ce",
   "metadata": {
    "scrolled": true
   },
   "outputs": [
    {
     "data": {
      "text/plain": [
       "array([[9, 1, 7, 2, 0],\n",
       "       [9, 5, 3, 9, 2],\n",
       "       [4, 4, 9, 3, 4],\n",
       "       [3, 7, 1, 4, 4],\n",
       "       [1, 7, 8, 3, 1]])"
      ]
     },
     "execution_count": 41,
     "metadata": {},
     "output_type": "execute_result"
    }
   ],
   "source": [
    "z"
   ]
  },
  {
   "cell_type": "code",
   "execution_count": 40,
   "id": "8eb1a418-db99-4d50-9626-edcbca198557",
   "metadata": {},
   "outputs": [
    {
     "data": {
      "text/plain": [
       "array([[9, 5],\n",
       "       [4, 4]])"
      ]
     },
     "execution_count": 40,
     "metadata": {},
     "output_type": "execute_result"
    }
   ],
   "source": [
    "z[1:3, :2]"
   ]
  },
  {
   "cell_type": "code",
   "execution_count": 42,
   "id": "65997e7f-8655-41ad-96f7-4df4b526d378",
   "metadata": {},
   "outputs": [
    {
     "data": {
      "text/plain": [
       "array([[9, 1, 7, 2, 0],\n",
       "       [9, 5, 3, 9, 2],\n",
       "       [4, 4, 9, 3, 4],\n",
       "       [3, 7, 1, 4, 4],\n",
       "       [1, 7, 8, 3, 1]])"
      ]
     },
     "execution_count": 42,
     "metadata": {},
     "output_type": "execute_result"
    }
   ],
   "source": [
    "z"
   ]
  },
  {
   "cell_type": "code",
   "execution_count": 43,
   "id": "8f758206-2423-42e2-980c-680714f53e37",
   "metadata": {},
   "outputs": [
    {
     "data": {
      "text/plain": [
       "array([9, 5, 3, 9, 2])"
      ]
     },
     "execution_count": 43,
     "metadata": {},
     "output_type": "execute_result"
    }
   ],
   "source": [
    "z[1]"
   ]
  },
  {
   "cell_type": "markdown",
   "id": "f55e38f5-1f48-4033-b665-c88df6848544",
   "metadata": {},
   "source": [
    "* Numpy iki bilinmeyenli denklem çözümü"
   ]
  },
  {
   "cell_type": "markdown",
   "id": "38a29d3d-d2e2-4d70-b005-4a9bbb7d463f",
   "metadata": {},
   "source": [
    "5 * x0 + x1 = 12\n",
    "x0 + 3 * x1 = 10"
   ]
  },
  {
   "cell_type": "code",
   "execution_count": 46,
   "id": "8242247b-db86-44ca-a16a-b781d02f1b8d",
   "metadata": {},
   "outputs": [],
   "source": [
    "a = np.array([[5, 1], [1, 3]])\n",
    "b = np.array([12, 10])"
   ]
  },
  {
   "cell_type": "code",
   "execution_count": 47,
   "id": "3a2a21fe-1a0b-443c-95a8-f7225d4a641a",
   "metadata": {},
   "outputs": [
    {
     "data": {
      "text/plain": [
       "array([[5, 1],\n",
       "       [1, 3]])"
      ]
     },
     "execution_count": 47,
     "metadata": {},
     "output_type": "execute_result"
    }
   ],
   "source": [
    "a"
   ]
  },
  {
   "cell_type": "code",
   "execution_count": 48,
   "id": "64a04bec-b424-46f7-8d86-469286d435f5",
   "metadata": {},
   "outputs": [
    {
     "data": {
      "text/plain": [
       "array([12, 10])"
      ]
     },
     "execution_count": 48,
     "metadata": {},
     "output_type": "execute_result"
    }
   ],
   "source": [
    "b"
   ]
  },
  {
   "cell_type": "code",
   "execution_count": 51,
   "id": "b3a4bc53-2573-4a0c-94f7-7f37f9f58a37",
   "metadata": {},
   "outputs": [
    {
     "data": {
      "text/plain": [
       "array([1.85714286, 2.71428571])"
      ]
     },
     "execution_count": 51,
     "metadata": {},
     "output_type": "execute_result"
    }
   ],
   "source": [
    "x = np.linalg.solve(a,b)\n",
    "x"
   ]
  },
  {
   "cell_type": "code",
   "execution_count": 54,
   "id": "804f7826-adf5-4c70-898e-17893ecea63f",
   "metadata": {},
   "outputs": [],
   "source": [
    "a = np.array([[4, 7, 4, 5, 9],\n",
    "\n",
    "            [2, 5, 0, 7, 7],\n",
    "\n",
    "            [1, 9, 0, 8, 2]])"
   ]
  },
  {
   "cell_type": "code",
   "execution_count": 55,
   "id": "c7ddd5e6-018a-4274-acbe-ee27e7fc7932",
   "metadata": {},
   "outputs": [
    {
     "data": {
      "text/plain": [
       "array([4, 0, 0])"
      ]
     },
     "execution_count": 55,
     "metadata": {},
     "output_type": "execute_result"
    }
   ],
   "source": [
    "a[:,2]"
   ]
  },
  {
   "cell_type": "code",
   "execution_count": 56,
   "id": "289515af-4a7a-456c-b032-af1c349b24e9",
   "metadata": {},
   "outputs": [],
   "source": [
    "v =  np.array([ 0, 3, 6, 9, 12, 15, 18, 21, 24, 27])"
   ]
  },
  {
   "cell_type": "code",
   "execution_count": 57,
   "id": "5e62f998-1977-47ab-9def-202b86d916fe",
   "metadata": {},
   "outputs": [
    {
     "data": {
      "text/plain": [
       "array([ 0,  3,  6,  9, 12, 15, 18, 21, 24, 27])"
      ]
     },
     "execution_count": 57,
     "metadata": {},
     "output_type": "execute_result"
    }
   ],
   "source": [
    "v"
   ]
  },
  {
   "cell_type": "code",
   "execution_count": 58,
   "id": "944c02f9-d94e-4d6e-a05f-811d5d5d3d1d",
   "metadata": {},
   "outputs": [
    {
     "data": {
      "text/plain": [
       "[3, 9]"
      ]
     },
     "execution_count": 58,
     "metadata": {},
     "output_type": "execute_result"
    }
   ],
   "source": [
    "[v[1], v[3]]"
   ]
  },
  {
   "cell_type": "code",
   "execution_count": null,
   "id": "9066484f-3085-42eb-87ca-9f0122efd10c",
   "metadata": {},
   "outputs": [],
   "source": []
  }
 ],
 "metadata": {
  "kernelspec": {
   "display_name": "Python 3 (ipykernel)",
   "language": "python",
   "name": "python3"
  },
  "language_info": {
   "codemirror_mode": {
    "name": "ipython",
    "version": 3
   },
   "file_extension": ".py",
   "mimetype": "text/x-python",
   "name": "python",
   "nbconvert_exporter": "python",
   "pygments_lexer": "ipython3",
   "version": "3.10.14"
  }
 },
 "nbformat": 4,
 "nbformat_minor": 5
}
